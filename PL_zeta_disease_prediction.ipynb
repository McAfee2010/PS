{
 "cells": [
  {
   "cell_type": "markdown",
   "metadata": {},
   "source": [
    "# In the first part I cleaned data by replacing 0s as well as removing outliers.\n",
    "# In the second part I developed models using Logistic Regression, Support Vector Machine(SVM) and Random Forest. Meanwhile I compared model scores based on column 'insulin_test' dropped with replaced.\n",
    "# The Random Forst with 'insulin_test' replaced yielded the highest AUC and accuracy score, so the prediction result was generated using this model."
   ]
  },
  {
   "cell_type": "code",
   "execution_count": 1,
   "metadata": {},
   "outputs": [],
   "source": [
    "import pandas as pd\n",
    "\n",
    "df = pd.read_csv(r'C:\\Users\\zhang\\Downloads\\recruiting_zeta-disease_training-data_take-home-challenge - 2021_zeta-disease_training-data_take-home-challenge.csv')"
   ]
  },
  {
   "cell_type": "code",
   "execution_count": 2,
   "metadata": {},
   "outputs": [
    {
     "data": {
      "text/html": [
       "<div>\n",
       "<style scoped>\n",
       "    .dataframe tbody tr th:only-of-type {\n",
       "        vertical-align: middle;\n",
       "    }\n",
       "\n",
       "    .dataframe tbody tr th {\n",
       "        vertical-align: top;\n",
       "    }\n",
       "\n",
       "    .dataframe thead th {\n",
       "        text-align: right;\n",
       "    }\n",
       "</style>\n",
       "<table border=\"1\" class=\"dataframe\">\n",
       "  <thead>\n",
       "    <tr style=\"text-align: right;\">\n",
       "      <th></th>\n",
       "      <th>age</th>\n",
       "      <th>weight</th>\n",
       "      <th>bmi</th>\n",
       "      <th>blood_pressure</th>\n",
       "      <th>insulin_test</th>\n",
       "      <th>liver_stress_test</th>\n",
       "      <th>cardio_stress_test</th>\n",
       "      <th>years_smoking</th>\n",
       "      <th>zeta_disease</th>\n",
       "    </tr>\n",
       "  </thead>\n",
       "  <tbody>\n",
       "    <tr>\n",
       "      <th>0</th>\n",
       "      <td>54</td>\n",
       "      <td>189</td>\n",
       "      <td>27.1</td>\n",
       "      <td>80</td>\n",
       "      <td>0</td>\n",
       "      <td>1.5038</td>\n",
       "      <td>0</td>\n",
       "      <td>10</td>\n",
       "      <td>0</td>\n",
       "    </tr>\n",
       "    <tr>\n",
       "      <th>1</th>\n",
       "      <td>23</td>\n",
       "      <td>150</td>\n",
       "      <td>38.5</td>\n",
       "      <td>68</td>\n",
       "      <td>71</td>\n",
       "      <td>0.3868</td>\n",
       "      <td>55</td>\n",
       "      <td>2</td>\n",
       "      <td>0</td>\n",
       "    </tr>\n",
       "    <tr>\n",
       "      <th>2</th>\n",
       "      <td>47</td>\n",
       "      <td>186</td>\n",
       "      <td>29.9</td>\n",
       "      <td>90</td>\n",
       "      <td>0</td>\n",
       "      <td>0.2728</td>\n",
       "      <td>0</td>\n",
       "      <td>7</td>\n",
       "      <td>0</td>\n",
       "    </tr>\n",
       "    <tr>\n",
       "      <th>3</th>\n",
       "      <td>18</td>\n",
       "      <td>150</td>\n",
       "      <td>30.8</td>\n",
       "      <td>70</td>\n",
       "      <td>1033</td>\n",
       "      <td>0.6598</td>\n",
       "      <td>56</td>\n",
       "      <td>0</td>\n",
       "      <td>0</td>\n",
       "    </tr>\n",
       "    <tr>\n",
       "      <th>4</th>\n",
       "      <td>24</td>\n",
       "      <td>160</td>\n",
       "      <td>32.4</td>\n",
       "      <td>74</td>\n",
       "      <td>125</td>\n",
       "      <td>0.7608</td>\n",
       "      <td>59</td>\n",
       "      <td>2</td>\n",
       "      <td>0</td>\n",
       "    </tr>\n",
       "  </tbody>\n",
       "</table>\n",
       "</div>"
      ],
      "text/plain": [
       "   age  weight   bmi  blood_pressure  insulin_test  liver_stress_test  \\\n",
       "0   54     189  27.1              80             0             1.5038   \n",
       "1   23     150  38.5              68            71             0.3868   \n",
       "2   47     186  29.9              90             0             0.2728   \n",
       "3   18     150  30.8              70          1033             0.6598   \n",
       "4   24     160  32.4              74           125             0.7608   \n",
       "\n",
       "   cardio_stress_test  years_smoking  zeta_disease  \n",
       "0                   0             10             0  \n",
       "1                  55              2             0  \n",
       "2                   0              7             0  \n",
       "3                  56              0             0  \n",
       "4                  59              2             0  "
      ]
     },
     "execution_count": 2,
     "metadata": {},
     "output_type": "execute_result"
    }
   ],
   "source": [
    "df.head()"
   ]
  },
  {
   "cell_type": "code",
   "execution_count": 3,
   "metadata": {},
   "outputs": [
    {
     "name": "stdout",
     "output_type": "stream",
     "text": [
      "<class 'pandas.core.frame.DataFrame'>\n",
      "RangeIndex: 800 entries, 0 to 799\n",
      "Data columns (total 9 columns):\n",
      "age                   800 non-null int64\n",
      "weight                800 non-null int64\n",
      "bmi                   800 non-null float64\n",
      "blood_pressure        800 non-null int64\n",
      "insulin_test          800 non-null int64\n",
      "liver_stress_test     800 non-null float64\n",
      "cardio_stress_test    800 non-null int64\n",
      "years_smoking         800 non-null int64\n",
      "zeta_disease          800 non-null int64\n",
      "dtypes: float64(2), int64(7)\n",
      "memory usage: 56.3 KB\n",
      "None\n"
     ]
    }
   ],
   "source": [
    "## First to see the data quality\n",
    "## Looks like no null value.\n",
    "print(df.info())"
   ]
  },
  {
   "cell_type": "code",
   "execution_count": 4,
   "metadata": {},
   "outputs": [
    {
     "name": "stdout",
     "output_type": "stream",
     "text": [
      "              age      weight         bmi  blood_pressure  insulin_test  \\\n",
      "count  800.000000  800.000000  800.000000      800.000000    800.000000   \n",
      "mean    30.985000  172.407500   32.201625       69.565000     85.887500   \n",
      "std     13.824025   31.942438    8.549155       19.874784    126.333656   \n",
      "min     18.000000   94.000000    0.000000        0.000000      0.000000   \n",
      "25%     21.000000  149.000000   27.300000       62.000000      0.000000   \n",
      "50%     26.000000  167.000000   32.050000       72.000000     45.000000   \n",
      "75%     38.000000  192.000000   36.525000       80.000000    130.000000   \n",
      "max    109.000000  308.000000   86.100000      157.000000   1077.000000   \n",
      "\n",
      "       liver_stress_test  cardio_stress_test  years_smoking  zeta_disease  \n",
      "count         800.000000          800.000000     800.000000    800.000000  \n",
      "mean            0.544496           43.121250       4.051250      0.348750  \n",
      "std             0.348711           30.409949       4.176173      0.476873  \n",
      "min             0.140800            0.000000       0.000000      0.000000  \n",
      "25%             0.307800            0.000000       1.000000      0.000000  \n",
      "50%             0.445300           53.000000       3.000000      0.000000  \n",
      "75%             0.699800           62.000000       6.000000      1.000000  \n",
      "max             3.481300          214.000000      40.000000      1.000000  \n"
     ]
    }
   ],
   "source": [
    "# Take a glance at the variable distribution\n",
    "# min(bmi) = 0, insulin_test.quantile(0.25) = 0 and cardio_stress_test.quantile(0.25) = 0.\n",
    "print(df.describe())"
   ]
  },
  {
   "cell_type": "code",
   "execution_count": 79,
   "metadata": {},
   "outputs": [
    {
     "data": {
      "text/plain": [
       "<matplotlib.axes._subplots.AxesSubplot at 0x2028e6e1940>"
      ]
     },
     "execution_count": 79,
     "metadata": {},
     "output_type": "execute_result"
    },
    {
     "data": {
      "image/png": "[encoded data removed]",
      "text/plain": [
       "<Figure size 432x288 with 1 Axes>"
      ]
     },
     "metadata": {
      "needs_background": "light"
     },
     "output_type": "display_data"
    }
   ],
   "source": [
    "df['insulin_test'].plot.hist(alpha = 1, bins = 50)"
   ]
  },
  {
   "cell_type": "code",
   "execution_count": 6,
   "metadata": {},
   "outputs": [
    {
     "data": {
      "text/plain": [
       "<matplotlib.axes._subplots.AxesSubplot at 0x2028b023fd0>"
      ]
     },
     "execution_count": 6,
     "metadata": {},
     "output_type": "execute_result"
    },
    {
     "data": {
      "image/png": "[encoded data removed]",
      "text/plain": [
       "<Figure size 432x288 with 1 Axes>"
      ]
     },
     "metadata": {
      "needs_background": "light"
     },
     "output_type": "display_data"
    }
   ],
   "source": [
    "df['bmi'].plot.hist(alpha = 1, bins = 50)"
   ]
  },
  {
   "cell_type": "code",
   "execution_count": 7,
   "metadata": {},
   "outputs": [
    {
     "data": {
      "text/plain": [
       "<matplotlib.axes._subplots.AxesSubplot at 0x2028b21e7f0>"
      ]
     },
     "execution_count": 7,
     "metadata": {},
     "output_type": "execute_result"
    },
    {
     "data": {
      "image/png": "[encoded data removed]",
      "text/plain": [
       "<Figure size 432x288 with 1 Axes>"
      ]
     },
     "metadata": {
      "needs_background": "light"
     },
     "output_type": "display_data"
    }
   ],
   "source": [
    "df['blood_pressure'].plot.hist(alpha = 1, bins = 50)"
   ]
  },
  {
   "cell_type": "code",
   "execution_count": 8,
   "metadata": {},
   "outputs": [
    {
     "data": {
      "text/plain": [
       "<matplotlib.axes._subplots.AxesSubplot at 0x2028b3149e8>"
      ]
     },
     "execution_count": 8,
     "metadata": {},
     "output_type": "execute_result"
    },
    {
     "data": {
      "image/png": "[encoded data removed]",
      "text/plain": [
       "<Figure size 432x288 with 1 Axes>"
      ]
     },
     "metadata": {
      "needs_background": "light"
     },
     "output_type": "display_data"
    }
   ],
   "source": [
    "df['cardio_stress_test'].plot.hist(alpha = 1, bins = 50)"
   ]
  },
  {
   "cell_type": "code",
   "execution_count": 9,
   "metadata": {},
   "outputs": [
    {
     "data": {
      "text/plain": [
       "0.2386606110166143"
      ]
     },
     "execution_count": 9,
     "metadata": {},
     "output_type": "execute_result"
    }
   ],
   "source": [
    "# Start with 'insulin_test'.\n",
    "# Tried to see if there is linearity among these features. The R square is ~0.24, so that's a no.\n",
    "\n",
    "from sklearn.linear_model import LinearRegression\n",
    "\n",
    "df_it = df[df['insulin_test'] != 0]\n",
    "\n",
    "model = LinearRegression()\n",
    "model.fit(df_it[['age','bmi','weight','blood_pressure','liver_stress_test','cardio_stress_test','years_smoking']], df_it['insulin_test'])\n",
    "model.score(df_it[['age','bmi','weight','blood_pressure','liver_stress_test','cardio_stress_test','years_smoking']], df_it['insulin_test'])"
   ]
  },
  {
   "cell_type": "markdown",
   "metadata": {},
   "source": [
    "## 'insulin_test' has over 350 0s out of 800, and the std is 126.33, so it is not a good idea to replace 0s with mean/median/mode. So I decided to do it in two ways: 1. drop 'insulin_test' and 2. fill 'insulin_test' using mice method. Then compare models to determine which is better.\n",
    "## 'bmi', 'blood_pressure' and 'cardio_stress_test' have some 0s but they are neither widely distributed nor skewed. So replacing 0s with mean is what I chose for them."
   ]
  },
  {
   "cell_type": "code",
   "execution_count": 10,
   "metadata": {},
   "outputs": [],
   "source": [
    "# Now I will try to drop it and develop model without 'insulin_test'.\n",
    "\n",
    "df.drop(['insulin_test'], axis = 1, inplace = True)"
   ]
  },
  {
   "cell_type": "code",
   "execution_count": 11,
   "metadata": {},
   "outputs": [],
   "source": [
    "bmi_mean = round(df['bmi'][df['bmi'] != 0].mean(),1)\n",
    "blood_pressure_mean = round(df['blood_pressure'][df['blood_pressure'] != 0].mean(),1)\n",
    "cardio_stress_test_mean = round(df['cardio_stress_test'][df['cardio_stress_test'] != 0].mean(),1)"
   ]
  },
  {
   "cell_type": "code",
   "execution_count": 12,
   "metadata": {},
   "outputs": [],
   "source": [
    "df['bmi'].replace(0, bmi_mean, inplace=True)\n",
    "df['blood_pressure'].replace(0, blood_pressure_mean, inplace=True)\n",
    "df['cardio_stress_test'].replace(0, cardio_stress_test_mean, inplace=True)"
   ]
  },
  {
   "cell_type": "code",
   "execution_count": 13,
   "metadata": {},
   "outputs": [
    {
     "name": "stdout",
     "output_type": "stream",
     "text": [
      "              age      weight         bmi  blood_pressure  liver_stress_test  \\\n",
      "count  800.000000  800.000000  800.000000      800.000000         800.000000   \n",
      "mean    30.985000  172.407500   32.651250       72.745625           0.544496   \n",
      "std     13.824025   31.942438    7.655927       13.165281           0.348711   \n",
      "min     18.000000   94.000000   18.200000       24.000000           0.140800   \n",
      "25%     21.000000  149.000000   27.500000       64.000000           0.307800   \n",
      "50%     26.000000  167.000000   32.400000       72.000000           0.445300   \n",
      "75%     38.000000  192.000000   36.525000       80.000000           0.699800   \n",
      "max    109.000000  308.000000   86.100000      157.000000           3.481300   \n",
      "\n",
      "       cardio_stress_test  years_smoking  zeta_disease  \n",
      "count          800.000000     800.000000    800.000000  \n",
      "mean            60.203000       4.051250      0.348750  \n",
      "std             13.682302       4.176173      0.476873  \n",
      "min             37.000000       0.000000      0.000000  \n",
      "25%             55.000000       1.000000      0.000000  \n",
      "50%             60.200000       3.000000      0.000000  \n",
      "75%             62.000000       6.000000      1.000000  \n",
      "max            214.000000      40.000000      1.000000  \n"
     ]
    }
   ],
   "source": [
    "# Much better.\n",
    "# 'age' got max = 109...How could a 109-year old person migrate to Mars? So I decided to further clean the data.\n",
    "print(df.describe())"
   ]
  },
  {
   "cell_type": "code",
   "execution_count": 14,
   "metadata": {},
   "outputs": [],
   "source": [
    "# To clean data using interquantile range.\n",
    "# Given the sample size is not big, I used 3*iqr to keep these mild outliers.\n",
    "for c in df.columns:\n",
    "    q1 = df[c].quantile(0.25)\n",
    "    q3 = df[c].quantile(0.75)\n",
    "    iqr = q3-q1\n",
    "    df = df[(df[c]>q1-3*iqr) & (df[c]<q3+3*iqr)]"
   ]
  },
  {
   "cell_type": "code",
   "execution_count": 15,
   "metadata": {},
   "outputs": [
    {
     "name": "stdout",
     "output_type": "stream",
     "text": [
      "              age      weight         bmi  blood_pressure  liver_stress_test  \\\n",
      "count  761.000000  761.000000  761.000000      761.000000         761.000000   \n",
      "mean    30.174770  171.981603   32.287779       72.273982           0.525655   \n",
      "std     11.762438   31.643278    6.636634       12.022130           0.300716   \n",
      "min     18.000000   94.000000   18.200000       24.000000           0.140800   \n",
      "25%     21.000000  149.000000   27.500000       64.000000           0.306800   \n",
      "50%     26.000000  167.000000   32.400000       72.000000           0.438800   \n",
      "75%     38.000000  191.000000   36.300000       80.000000           0.688800   \n",
      "max     78.000000  308.000000   57.300000      122.000000           1.843800   \n",
      "\n",
      "       cardio_stress_test  years_smoking  zeta_disease  \n",
      "count          761.000000     761.000000    761.000000  \n",
      "mean            59.088568       3.875164      0.342970  \n",
      "std              8.107819       3.365291      0.475014  \n",
      "min             37.000000       0.000000      0.000000  \n",
      "25%             55.000000       1.000000      0.000000  \n",
      "50%             60.200000       3.000000      0.000000  \n",
      "75%             62.000000       6.000000      1.000000  \n",
      "max             82.000000      17.000000      1.000000  \n"
     ]
    }
   ],
   "source": [
    "# Much better. 'age' = 78 is still an impressive number, but there are alwasy some brave old people.Old soldiers never die.\n",
    "# There used to be two cases whose years_smoking > age. Dude started smoking even before being born, lol. Luckily they got 'cleaned'.\n",
    "# Now min(df['age']- df['years_smoking']) = 11. I personally know someone started smoking at 11, so I decided to keep.\n",
    "print(df.describe())"
   ]
  },
  {
   "cell_type": "code",
   "execution_count": 16,
   "metadata": {},
   "outputs": [
    {
     "data": {
      "text/plain": [
       "zeta_disease\n",
       "0    500\n",
       "1    261\n",
       "dtype: int64"
      ]
     },
     "execution_count": 16,
     "metadata": {},
     "output_type": "execute_result"
    }
   ],
   "source": [
    "# See how many people of these 761 got zeta disease. If one category is way more than the other, we need to deal with imbalanced data.\n",
    "# It turns out that the data is ok, so no need to worry about imbalanced data.\n",
    "df.groupby('zeta_disease').size()"
   ]
  },
  {
   "cell_type": "code",
   "execution_count": 17,
   "metadata": {},
   "outputs": [],
   "source": [
    "# Independent variables\n",
    "x = df.iloc[:,0:-1]\n",
    "# Dependent variables\n",
    "y = df.iloc[:,-1:]"
   ]
  },
  {
   "cell_type": "markdown",
   "metadata": {},
   "source": [
    "### VIF cutoff = 10. I did not write while loop to autimatically remove any feature with VIF >= 10.\n",
    "### It is because 'age' has an intial VIF of 12.14 while it is an important factor in disease prediction. I need to keep an eye on it.\n",
    "### So I did it manually, removing one feature per time, since there are not many features. \n",
    "### 'weight', 'bmi' and 'blood_pressure' are positively associated. "
   ]
  },
  {
   "cell_type": "code",
   "execution_count": 18,
   "metadata": {},
   "outputs": [
    {
     "name": "stdout",
     "output_type": "stream",
     "text": [
      "            attribute        VIF\n",
      "0                 age  12.144533\n",
      "1              weight  29.228124\n",
      "2                 bmi  37.433107\n",
      "3      blood_pressure  37.788434\n",
      "4   liver_stress_test   4.086427\n",
      "5  cardio_stress_test  54.749868\n",
      "6       years_smoking   3.293091\n"
     ]
    }
   ],
   "source": [
    "# To check multicollinearity, using VIF\n",
    "from statsmodels.stats.outliers_influence import variance_inflation_factor\n",
    "\n",
    "vif = pd.DataFrame()\n",
    "vif['attribute'] = x.columns\n",
    "vif['VIF'] = [variance_inflation_factor(x.values, x.columns.get_loc(i)) for i in x.columns]\n",
    "print(vif)"
   ]
  },
  {
   "cell_type": "code",
   "execution_count": 19,
   "metadata": {},
   "outputs": [],
   "source": [
    "# cardio_stress_test got a too high VIF, so drop it and calculate VIF again.\n",
    "x.drop(['cardio_stress_test'], axis = 1, inplace  = True)"
   ]
  },
  {
   "cell_type": "code",
   "execution_count": 20,
   "metadata": {},
   "outputs": [
    {
     "name": "stdout",
     "output_type": "stream",
     "text": [
      "           attribute        VIF\n",
      "0                age  12.065844\n",
      "1             weight  26.891571\n",
      "2                bmi  25.067410\n",
      "3     blood_pressure  33.717819\n",
      "4  liver_stress_test   4.082126\n",
      "5      years_smoking   3.293002\n"
     ]
    }
   ],
   "source": [
    "vif = pd.DataFrame()\n",
    "vif['attribute'] = x.columns\n",
    "vif['VIF'] = [variance_inflation_factor(x.values, x.columns.get_loc(i)) for i in x.columns]\n",
    "print(vif)"
   ]
  },
  {
   "cell_type": "code",
   "execution_count": 21,
   "metadata": {},
   "outputs": [],
   "source": [
    "# blood_pressure got a too high VIF, so drop it and calculate VIF again.\n",
    "x.drop(['blood_pressure'], axis = 1, inplace = True)"
   ]
  },
  {
   "cell_type": "code",
   "execution_count": 22,
   "metadata": {},
   "outputs": [
    {
     "name": "stdout",
     "output_type": "stream",
     "text": [
      "           attribute        VIF\n",
      "0                age  10.799400\n",
      "1             weight  22.639298\n",
      "2                bmi  18.335033\n",
      "3  liver_stress_test   4.080291\n",
      "4      years_smoking   3.292997\n"
     ]
    }
   ],
   "source": [
    "vif = pd.DataFrame()\n",
    "vif['attribute'] = x.columns\n",
    "vif['VIF'] = [variance_inflation_factor(x.values, x.columns.get_loc(i)) for i in x.columns]\n",
    "print(vif)"
   ]
  },
  {
   "cell_type": "code",
   "execution_count": 23,
   "metadata": {},
   "outputs": [],
   "source": [
    "# Weight got a too high VIF, so drop it and calculate VIF again.\n",
    "x.drop(['weight'], axis = 1, inplace = True)"
   ]
  },
  {
   "cell_type": "code",
   "execution_count": 24,
   "metadata": {},
   "outputs": [
    {
     "name": "stdout",
     "output_type": "stream",
     "text": [
      "           attribute       VIF\n",
      "0                age  9.157546\n",
      "1                bmi  8.081578\n",
      "2  liver_stress_test  3.950349\n",
      "3      years_smoking  3.285327\n"
     ]
    }
   ],
   "source": [
    "vif = pd.DataFrame()\n",
    "vif['attribute'] = x.columns\n",
    "vif['VIF'] = [variance_inflation_factor(x.values, x.columns.get_loc(i)) for i in x.columns]\n",
    "print(vif)"
   ]
  },
  {
   "cell_type": "markdown",
   "metadata": {},
   "source": [
    "### The data without 'insulin_test' is prepared, now start Logistic Regression"
   ]
  },
  {
   "cell_type": "code",
   "execution_count": 25,
   "metadata": {},
   "outputs": [],
   "source": [
    "from sklearn.model_selection import train_test_split\n",
    "\n",
    "x_train, x_test, y_train, y_test = train_test_split(x, y, test_size = 0.4, random_state = 15)"
   ]
  },
  {
   "cell_type": "code",
   "execution_count": 26,
   "metadata": {},
   "outputs": [
    {
     "name": "stdout",
     "output_type": "stream",
     "text": [
      "Logistic Regression accuracy score is: 0.6950819672131148\n"
     ]
    }
   ],
   "source": [
    "from sklearn.linear_model import LogisticRegression\n",
    "\n",
    "lr = LogisticRegression(solver='liblinear')\n",
    "lr.fit(x_train, y_train.values.ravel())\n",
    "\n",
    "print('Logistic Regression accuracy score is:',lr.score(x_test, y_test))"
   ]
  },
  {
   "cell_type": "code",
   "execution_count": 27,
   "metadata": {},
   "outputs": [],
   "source": [
    "lr_y_pred = lr.predict(x_test)"
   ]
  },
  {
   "cell_type": "code",
   "execution_count": 28,
   "metadata": {},
   "outputs": [
    {
     "name": "stdout",
     "output_type": "stream",
     "text": [
      "Logistic Regression AUC is: 0.6032047027590784\n"
     ]
    }
   ],
   "source": [
    "from sklearn.metrics import auc, roc_curve\n",
    "fpr, tpr, _ = roc_curve(y_test, lr_y_pred)\n",
    "roc_auc = auc(fpr,tpr)\n",
    "print('Logistic Regression AUC is:',roc_auc)"
   ]
  },
  {
   "cell_type": "markdown",
   "metadata": {},
   "source": [
    "### Start SVM"
   ]
  },
  {
   "cell_type": "code",
   "execution_count": 29,
   "metadata": {},
   "outputs": [
    {
     "name": "stdout",
     "output_type": "stream",
     "text": [
      "SVM accuracy score is: 0.6983606557377049\n"
     ]
    }
   ],
   "source": [
    "from sklearn import svm\n",
    "\n",
    "svm_model = svm.SVC(kernel='linear',gamma=1,random_state = 15) \n",
    "svm_model.fit(x_train, y_train.values.ravel())\n",
    "\n",
    "print('SVM accuracy score is:',svm_model.score(x_test, y_test))"
   ]
  },
  {
   "cell_type": "code",
   "execution_count": 30,
   "metadata": {},
   "outputs": [],
   "source": [
    "svm_y_pred =  svm_model.predict(x_test)"
   ]
  },
  {
   "cell_type": "code",
   "execution_count": 31,
   "metadata": {},
   "outputs": [
    {
     "name": "stdout",
     "output_type": "stream",
     "text": [
      "SVM AUC is: 0.5991040106191334\n"
     ]
    }
   ],
   "source": [
    "fpr, tpr, _ = roc_curve(y_test, svm_y_pred)\n",
    "roc_auc = auc(fpr,tpr)\n",
    "print('SVM AUC is:',roc_auc)"
   ]
  },
  {
   "cell_type": "markdown",
   "metadata": {},
   "source": [
    "### Start Random Forest"
   ]
  },
  {
   "cell_type": "code",
   "execution_count": 32,
   "metadata": {},
   "outputs": [
    {
     "name": "stdout",
     "output_type": "stream",
     "text": [
      "Random Forest accuracy score is: 0.6754098360655738\n"
     ]
    }
   ],
   "source": [
    "from sklearn.ensemble import RandomForestClassifier #use RandomForestRegressor for regression problem\n",
    "\n",
    "rf_model = RandomForestClassifier(n_estimators=100,random_state = 15)\n",
    "rf_model.fit(x_train, y_train.values.ravel())\n",
    "\n",
    "print('Random Forest accuracy score is:',rf_model.score(x_test, y_test))"
   ]
  },
  {
   "cell_type": "code",
   "execution_count": 33,
   "metadata": {},
   "outputs": [],
   "source": [
    "rf_y_pred = rf_model.predict(x_test)"
   ]
  },
  {
   "cell_type": "code",
   "execution_count": 34,
   "metadata": {},
   "outputs": [
    {
     "name": "stdout",
     "output_type": "stream",
     "text": [
      "Random Forest AUC is: 0.6167867640087229\n"
     ]
    }
   ],
   "source": [
    "fpr, tpr, _ = roc_curve(y_test, rf_y_pred)\n",
    "roc_auc = auc(fpr,tpr)\n",
    "print('Random Forest AUC is:',roc_auc)"
   ]
  },
  {
   "cell_type": "markdown",
   "metadata": {},
   "source": [
    "# In case of 'insulin_test' dropped, Random Forest has the highes AUC.\n",
    "## Now tried to replace 0s of 'insulin_test' using mice."
   ]
  },
  {
   "cell_type": "code",
   "execution_count": 60,
   "metadata": {},
   "outputs": [],
   "source": [
    "df = pd.read_csv(r'C:\\Users\\zhang\\Downloads\\recruiting_zeta-disease_training-data_take-home-challenge - 2021_zeta-disease_training-data_take-home-challenge.csv')"
   ]
  },
  {
   "cell_type": "code",
   "execution_count": 36,
   "metadata": {},
   "outputs": [],
   "source": [
    "bmi_mean = round(df['bmi'][df['bmi'] != 0].mean(),1)\n",
    "blood_pressure_mean = round(df['blood_pressure'][df['blood_pressure'] != 0].mean(),1)\n",
    "cardio_stress_test_mean = round(df['cardio_stress_test'][df['cardio_stress_test'] != 0].mean(),1)"
   ]
  },
  {
   "cell_type": "code",
   "execution_count": 37,
   "metadata": {},
   "outputs": [],
   "source": [
    "df['bmi'].replace(0, bmi_mean, inplace=True)\n",
    "df['blood_pressure'].replace(0, blood_pressure_mean, inplace=True)\n",
    "df['cardio_stress_test'].replace(0, cardio_stress_test_mean, inplace=True)"
   ]
  },
  {
   "cell_type": "code",
   "execution_count": 38,
   "metadata": {},
   "outputs": [],
   "source": [
    "for c in df.columns:\n",
    "    q1 = df[c].quantile(0.25)\n",
    "    q3 = df[c].quantile(0.75)\n",
    "    iqr = q3-q1\n",
    "    df = df[(df[c]>q1-3*iqr) & (df[c]<q3+3*iqr)]"
   ]
  },
  {
   "cell_type": "code",
   "execution_count": 39,
   "metadata": {},
   "outputs": [],
   "source": [
    "import numpy as np\n",
    "from impyute.imputation.cs import mice\n",
    "\n",
    "df['insulin_test'].replace(0, np.nan, inplace=True)\n",
    "imputed_training = mice(df.values)\n",
    "df_w_insulin = pd.DataFrame(imputed_training, columns = df.columns)"
   ]
  },
  {
   "cell_type": "code",
   "execution_count": 40,
   "metadata": {},
   "outputs": [],
   "source": [
    "# Independent variables\n",
    "x = df_w_insulin.iloc[:,0:-1]\n",
    "# Dependent variables\n",
    "y = df_w_insulin.iloc[:,-1:]"
   ]
  },
  {
   "cell_type": "code",
   "execution_count": 41,
   "metadata": {},
   "outputs": [
    {
     "name": "stdout",
     "output_type": "stream",
     "text": [
      "            attribute        VIF\n",
      "0                 age  12.362698\n",
      "1              weight  40.750111\n",
      "2                 bmi  39.943912\n",
      "3      blood_pressure  39.354881\n",
      "4        insulin_test   7.191359\n",
      "5   liver_stress_test   4.072337\n",
      "6  cardio_stress_test  57.583060\n",
      "7       years_smoking   3.324081\n"
     ]
    }
   ],
   "source": [
    "vif = pd.DataFrame()\n",
    "vif['attribute'] = x.columns\n",
    "vif['VIF'] = [variance_inflation_factor(x.values, x.columns.get_loc(i)) for i in x.columns]\n",
    "print(vif)"
   ]
  },
  {
   "cell_type": "code",
   "execution_count": 42,
   "metadata": {},
   "outputs": [
    {
     "name": "stderr",
     "output_type": "stream",
     "text": [
      "C:\\Users\\zhang\\Anaconda3\\lib\\site-packages\\pandas\\core\\frame.py:3697: SettingWithCopyWarning: \n",
      "A value is trying to be set on a copy of a slice from a DataFrame\n",
      "\n",
      "See the caveats in the documentation: http://pandas.pydata.org/pandas-docs/stable/indexing.html#indexing-view-versus-copy\n",
      "  errors=errors)\n"
     ]
    }
   ],
   "source": [
    "# cardio_stress_test got a too high VIF, so drop it and calculate VIF again.\n",
    "x.drop(['cardio_stress_test'], axis = 1, inplace = True)"
   ]
  },
  {
   "cell_type": "code",
   "execution_count": 43,
   "metadata": {},
   "outputs": [
    {
     "name": "stdout",
     "output_type": "stream",
     "text": [
      "           attribute        VIF\n",
      "0                age  12.243295\n",
      "1             weight  35.847818\n",
      "2                bmi  25.514605\n",
      "3     blood_pressure  36.376821\n",
      "4       insulin_test   6.848636\n",
      "5  liver_stress_test   4.068693\n",
      "6      years_smoking   3.324074\n"
     ]
    }
   ],
   "source": [
    "vif = pd.DataFrame()\n",
    "vif['attribute'] = x.columns\n",
    "vif['VIF'] = [variance_inflation_factor(x.values, x.columns.get_loc(i)) for i in x.columns]\n",
    "print(vif)"
   ]
  },
  {
   "cell_type": "code",
   "execution_count": 44,
   "metadata": {},
   "outputs": [],
   "source": [
    "# blood_pressure got a too high VIF, so drop it and calculate VIF again.\n",
    "x.drop(['blood_pressure'], axis = 1, inplace = True)"
   ]
  },
  {
   "cell_type": "code",
   "execution_count": 45,
   "metadata": {},
   "outputs": [
    {
     "name": "stdout",
     "output_type": "stream",
     "text": [
      "           attribute        VIF\n",
      "0                age  10.828817\n",
      "1             weight  28.023982\n",
      "2                bmi  18.363169\n",
      "3       insulin_test   6.413857\n",
      "4  liver_stress_test   4.068272\n",
      "5      years_smoking   3.322744\n"
     ]
    }
   ],
   "source": [
    "vif = pd.DataFrame()\n",
    "vif['attribute'] = x.columns\n",
    "vif['VIF'] = [variance_inflation_factor(x.values, x.columns.get_loc(i)) for i in x.columns]\n",
    "print(vif)"
   ]
  },
  {
   "cell_type": "code",
   "execution_count": 46,
   "metadata": {},
   "outputs": [],
   "source": [
    "# weight got a too high VIF, so drop it and calculate VIF again.\n",
    "x.drop(['weight'], axis = 1, inplace = True)"
   ]
  },
  {
   "cell_type": "code",
   "execution_count": 47,
   "metadata": {},
   "outputs": [
    {
     "name": "stdout",
     "output_type": "stream",
     "text": [
      "           attribute        VIF\n",
      "0                age   9.567147\n",
      "1                bmi  10.250305\n",
      "2       insulin_test   5.137819\n",
      "3  liver_stress_test   3.953698\n",
      "4      years_smoking   3.320366\n"
     ]
    }
   ],
   "source": [
    "# bmi is ok, so I kept it.\n",
    "\n",
    "vif = pd.DataFrame()\n",
    "vif['attribute'] = x.columns\n",
    "vif['VIF'] = [variance_inflation_factor(x.values, x.columns.get_loc(i)) for i in x.columns]\n",
    "print(vif)"
   ]
  },
  {
   "cell_type": "code",
   "execution_count": 48,
   "metadata": {},
   "outputs": [],
   "source": [
    "x_train, x_test, y_train, y_test = train_test_split(x, y, test_size = 0.4, random_state = 15)"
   ]
  },
  {
   "cell_type": "code",
   "execution_count": 49,
   "metadata": {},
   "outputs": [
    {
     "name": "stdout",
     "output_type": "stream",
     "text": [
      "Logistic Regression accuracy score is: 0.7906976744186046\n"
     ]
    }
   ],
   "source": [
    "lr_i = LogisticRegression(solver='liblinear')\n",
    "lr_i.fit(x_train, y_train.values.ravel())\n",
    "\n",
    "print('Logistic Regression accuracy score is:',lr_i.score(x_test, y_test))"
   ]
  },
  {
   "cell_type": "code",
   "execution_count": 50,
   "metadata": {},
   "outputs": [
    {
     "name": "stdout",
     "output_type": "stream",
     "text": [
      "Logistic Regression AUC is: 0.7229674170007194\n"
     ]
    }
   ],
   "source": [
    "lr_y_pred = lr_i.predict(x_test)\n",
    "\n",
    "fpr, tpr, _ = roc_curve(y_test, lr_y_pred)\n",
    "roc_auc = auc(fpr,tpr)\n",
    "print('Logistic Regression AUC is:',roc_auc)"
   ]
  },
  {
   "cell_type": "code",
   "execution_count": 51,
   "metadata": {},
   "outputs": [
    {
     "name": "stdout",
     "output_type": "stream",
     "text": [
      "SVM accuracy score is: 0.7807308970099668\n"
     ]
    }
   ],
   "source": [
    "svm_model_i = svm.SVC(kernel='linear',gamma=1,random_state = 15) \n",
    "svm_model_i.fit(x_train, y_train.values.ravel())\n",
    "\n",
    "print('SVM accuracy score is:',svm_model_i.score(x_test, y_test))"
   ]
  },
  {
   "cell_type": "code",
   "execution_count": 52,
   "metadata": {},
   "outputs": [
    {
     "name": "stdout",
     "output_type": "stream",
     "text": [
      "SVM AUC is: 0.7128173501901531\n"
     ]
    }
   ],
   "source": [
    "svm_y_pred =  svm_model_i.predict(x_test)\n",
    "\n",
    "fpr, tpr, _ = roc_curve(y_test, svm_y_pred)\n",
    "roc_auc = auc(fpr,tpr)\n",
    "print('SVM AUC is:',roc_auc)"
   ]
  },
  {
   "cell_type": "code",
   "execution_count": 53,
   "metadata": {},
   "outputs": [
    {
     "name": "stdout",
     "output_type": "stream",
     "text": [
      "Random Forest accuracy score is: 0.7774086378737541\n"
     ]
    }
   ],
   "source": [
    "rf_model_i = RandomForestClassifier(n_estimators=100,random_state = 15)\n",
    "rf_model_i.fit(x_train, y_train.values.ravel())\n",
    "\n",
    "print('Random Forest accuracy score is:',rf_model_i.score(x_test, y_test))"
   ]
  },
  {
   "cell_type": "code",
   "execution_count": 54,
   "metadata": {},
   "outputs": [
    {
     "name": "stdout",
     "output_type": "stream",
     "text": [
      "Random Forest AUC is: 0.7568609312365094\n"
     ]
    }
   ],
   "source": [
    "rf_y_pred = rf_model_i.predict(x_test)\n",
    "\n",
    "fpr, tpr, _ = roc_curve(y_test, rf_y_pred)\n",
    "roc_auc = auc(fpr,tpr)\n",
    "print('Random Forest AUC is:',roc_auc)"
   ]
  },
  {
   "cell_type": "markdown",
   "metadata": {},
   "source": [
    "### Random Forest with 'insulin_test' filled has the highes AUC as well as accuracy score, so I will go with RF."
   ]
  },
  {
   "cell_type": "code",
   "execution_count": 55,
   "metadata": {},
   "outputs": [],
   "source": [
    "df_pred = pd.read_csv(r'C:\\Users\\zhang\\Downloads\\recruiting_zeta-disease_prediction-data_take-home-challenge - 2021-01-21_zeta-disease_prediction-data_take-home-challenge.csv')"
   ]
  },
  {
   "cell_type": "code",
   "execution_count": 56,
   "metadata": {},
   "outputs": [
    {
     "data": {
      "text/html": [
       "<div>\n",
       "<style scoped>\n",
       "    .dataframe tbody tr th:only-of-type {\n",
       "        vertical-align: middle;\n",
       "    }\n",
       "\n",
       "    .dataframe tbody tr th {\n",
       "        vertical-align: top;\n",
       "    }\n",
       "\n",
       "    .dataframe thead th {\n",
       "        text-align: right;\n",
       "    }\n",
       "</style>\n",
       "<table border=\"1\" class=\"dataframe\">\n",
       "  <thead>\n",
       "    <tr style=\"text-align: right;\">\n",
       "      <th></th>\n",
       "      <th>age</th>\n",
       "      <th>weight</th>\n",
       "      <th>bmi</th>\n",
       "      <th>blood_pressure</th>\n",
       "      <th>insulin_test</th>\n",
       "      <th>liver_stress_test</th>\n",
       "      <th>cardio_stress_test</th>\n",
       "      <th>years_smoking</th>\n",
       "      <th>zeta_disease</th>\n",
       "    </tr>\n",
       "  </thead>\n",
       "  <tbody>\n",
       "    <tr>\n",
       "      <th>0</th>\n",
       "      <td>24</td>\n",
       "      <td>151</td>\n",
       "      <td>39.5</td>\n",
       "      <td>69</td>\n",
       "      <td>72</td>\n",
       "      <td>1.3968</td>\n",
       "      <td>56</td>\n",
       "      <td>4</td>\n",
       "      <td>NaN</td>\n",
       "    </tr>\n",
       "    <tr>\n",
       "      <th>1</th>\n",
       "      <td>27</td>\n",
       "      <td>179</td>\n",
       "      <td>35.5</td>\n",
       "      <td>89</td>\n",
       "      <td>156</td>\n",
       "      <td>1.6608</td>\n",
       "      <td>43</td>\n",
       "      <td>6</td>\n",
       "      <td>NaN</td>\n",
       "    </tr>\n",
       "    <tr>\n",
       "      <th>2</th>\n",
       "      <td>34</td>\n",
       "      <td>147</td>\n",
       "      <td>26.9</td>\n",
       "      <td>76</td>\n",
       "      <td>74</td>\n",
       "      <td>1.6958</td>\n",
       "      <td>53</td>\n",
       "      <td>2</td>\n",
       "      <td>NaN</td>\n",
       "    </tr>\n",
       "    <tr>\n",
       "      <th>3</th>\n",
       "      <td>35</td>\n",
       "      <td>206</td>\n",
       "      <td>32.4</td>\n",
       "      <td>73</td>\n",
       "      <td>127</td>\n",
       "      <td>1.4608</td>\n",
       "      <td>61</td>\n",
       "      <td>6</td>\n",
       "      <td>NaN</td>\n",
       "    </tr>\n",
       "    <tr>\n",
       "      <th>4</th>\n",
       "      <td>60</td>\n",
       "      <td>193</td>\n",
       "      <td>29.8</td>\n",
       "      <td>62</td>\n",
       "      <td>192</td>\n",
       "      <td>1.7798</td>\n",
       "      <td>65</td>\n",
       "      <td>9</td>\n",
       "      <td>NaN</td>\n",
       "    </tr>\n",
       "  </tbody>\n",
       "</table>\n",
       "</div>"
      ],
      "text/plain": [
       "   age  weight   bmi  blood_pressure  insulin_test  liver_stress_test  \\\n",
       "0   24     151  39.5              69            72             1.3968   \n",
       "1   27     179  35.5              89           156             1.6608   \n",
       "2   34     147  26.9              76            74             1.6958   \n",
       "3   35     206  32.4              73           127             1.4608   \n",
       "4   60     193  29.8              62           192             1.7798   \n",
       "\n",
       "   cardio_stress_test  years_smoking  zeta_disease  \n",
       "0                  56              4           NaN  \n",
       "1                  43              6           NaN  \n",
       "2                  53              2           NaN  \n",
       "3                  61              6           NaN  \n",
       "4                  65              9           NaN  "
      ]
     },
     "execution_count": 56,
     "metadata": {},
     "output_type": "execute_result"
    }
   ],
   "source": [
    "df_pred.head()"
   ]
  },
  {
   "cell_type": "code",
   "execution_count": 57,
   "metadata": {},
   "outputs": [],
   "source": [
    "x_pred = df_pred[['age','insulin_test','liver_stress_test','cardio_stress_test','years_smoking']]"
   ]
  },
  {
   "cell_type": "code",
   "execution_count": 58,
   "metadata": {},
   "outputs": [],
   "source": [
    "df_pred['zeta_disease'] = rf_model_i.predict(x_pred).astype(int)"
   ]
  },
  {
   "cell_type": "code",
   "execution_count": 59,
   "metadata": {},
   "outputs": [
    {
     "data": {
      "text/html": [
       "<div>\n",
       "<style scoped>\n",
       "    .dataframe tbody tr th:only-of-type {\n",
       "        vertical-align: middle;\n",
       "    }\n",
       "\n",
       "    .dataframe tbody tr th {\n",
       "        vertical-align: top;\n",
       "    }\n",
       "\n",
       "    .dataframe thead th {\n",
       "        text-align: right;\n",
       "    }\n",
       "</style>\n",
       "<table border=\"1\" class=\"dataframe\">\n",
       "  <thead>\n",
       "    <tr style=\"text-align: right;\">\n",
       "      <th></th>\n",
       "      <th>age</th>\n",
       "      <th>weight</th>\n",
       "      <th>bmi</th>\n",
       "      <th>blood_pressure</th>\n",
       "      <th>insulin_test</th>\n",
       "      <th>liver_stress_test</th>\n",
       "      <th>cardio_stress_test</th>\n",
       "      <th>years_smoking</th>\n",
       "      <th>zeta_disease</th>\n",
       "    </tr>\n",
       "  </thead>\n",
       "  <tbody>\n",
       "    <tr>\n",
       "      <th>0</th>\n",
       "      <td>24</td>\n",
       "      <td>151</td>\n",
       "      <td>39.5</td>\n",
       "      <td>69</td>\n",
       "      <td>72</td>\n",
       "      <td>1.3968</td>\n",
       "      <td>56</td>\n",
       "      <td>4</td>\n",
       "      <td>1</td>\n",
       "    </tr>\n",
       "    <tr>\n",
       "      <th>1</th>\n",
       "      <td>27</td>\n",
       "      <td>179</td>\n",
       "      <td>35.5</td>\n",
       "      <td>89</td>\n",
       "      <td>156</td>\n",
       "      <td>1.6608</td>\n",
       "      <td>43</td>\n",
       "      <td>6</td>\n",
       "      <td>0</td>\n",
       "    </tr>\n",
       "    <tr>\n",
       "      <th>2</th>\n",
       "      <td>34</td>\n",
       "      <td>147</td>\n",
       "      <td>26.9</td>\n",
       "      <td>76</td>\n",
       "      <td>74</td>\n",
       "      <td>1.6958</td>\n",
       "      <td>53</td>\n",
       "      <td>2</td>\n",
       "      <td>0</td>\n",
       "    </tr>\n",
       "    <tr>\n",
       "      <th>3</th>\n",
       "      <td>35</td>\n",
       "      <td>206</td>\n",
       "      <td>32.4</td>\n",
       "      <td>73</td>\n",
       "      <td>127</td>\n",
       "      <td>1.4608</td>\n",
       "      <td>61</td>\n",
       "      <td>6</td>\n",
       "      <td>0</td>\n",
       "    </tr>\n",
       "    <tr>\n",
       "      <th>4</th>\n",
       "      <td>60</td>\n",
       "      <td>193</td>\n",
       "      <td>29.8</td>\n",
       "      <td>62</td>\n",
       "      <td>192</td>\n",
       "      <td>1.7798</td>\n",
       "      <td>65</td>\n",
       "      <td>9</td>\n",
       "      <td>0</td>\n",
       "    </tr>\n",
       "    <tr>\n",
       "      <th>5</th>\n",
       "      <td>45</td>\n",
       "      <td>120</td>\n",
       "      <td>36.5</td>\n",
       "      <td>108</td>\n",
       "      <td>50</td>\n",
       "      <td>1.2978</td>\n",
       "      <td>54</td>\n",
       "      <td>12</td>\n",
       "      <td>0</td>\n",
       "    </tr>\n",
       "    <tr>\n",
       "      <th>6</th>\n",
       "      <td>20</td>\n",
       "      <td>139</td>\n",
       "      <td>38.2</td>\n",
       "      <td>61</td>\n",
       "      <td>77</td>\n",
       "      <td>1.5818</td>\n",
       "      <td>68</td>\n",
       "      <td>3</td>\n",
       "      <td>0</td>\n",
       "    </tr>\n",
       "    <tr>\n",
       "      <th>7</th>\n",
       "      <td>23</td>\n",
       "      <td>137</td>\n",
       "      <td>31.2</td>\n",
       "      <td>70</td>\n",
       "      <td>73</td>\n",
       "      <td>1.4168</td>\n",
       "      <td>59</td>\n",
       "      <td>7</td>\n",
       "      <td>1</td>\n",
       "    </tr>\n",
       "    <tr>\n",
       "      <th>8</th>\n",
       "      <td>36</td>\n",
       "      <td>195</td>\n",
       "      <td>30.5</td>\n",
       "      <td>59</td>\n",
       "      <td>141</td>\n",
       "      <td>1.4498</td>\n",
       "      <td>59</td>\n",
       "      <td>6</td>\n",
       "      <td>0</td>\n",
       "    </tr>\n",
       "    <tr>\n",
       "      <th>9</th>\n",
       "      <td>19</td>\n",
       "      <td>193</td>\n",
       "      <td>25.8</td>\n",
       "      <td>84</td>\n",
       "      <td>66</td>\n",
       "      <td>1.7938</td>\n",
       "      <td>50</td>\n",
       "      <td>3</td>\n",
       "      <td>0</td>\n",
       "    </tr>\n",
       "    <tr>\n",
       "      <th>10</th>\n",
       "      <td>47</td>\n",
       "      <td>216</td>\n",
       "      <td>34.7</td>\n",
       "      <td>70</td>\n",
       "      <td>170</td>\n",
       "      <td>1.7238</td>\n",
       "      <td>58</td>\n",
       "      <td>7</td>\n",
       "      <td>0</td>\n",
       "    </tr>\n",
       "    <tr>\n",
       "      <th>11</th>\n",
       "      <td>40</td>\n",
       "      <td>200</td>\n",
       "      <td>30.4</td>\n",
       "      <td>69</td>\n",
       "      <td>128</td>\n",
       "      <td>1.3118</td>\n",
       "      <td>60</td>\n",
       "      <td>3</td>\n",
       "      <td>0</td>\n",
       "    </tr>\n",
       "    <tr>\n",
       "      <th>12</th>\n",
       "      <td>21</td>\n",
       "      <td>154</td>\n",
       "      <td>46.5</td>\n",
       "      <td>88</td>\n",
       "      <td>121</td>\n",
       "      <td>1.2498</td>\n",
       "      <td>68</td>\n",
       "      <td>4</td>\n",
       "      <td>1</td>\n",
       "    </tr>\n",
       "    <tr>\n",
       "      <th>13</th>\n",
       "      <td>52</td>\n",
       "      <td>196</td>\n",
       "      <td>31.3</td>\n",
       "      <td>90</td>\n",
       "      <td>167</td>\n",
       "      <td>1.9238</td>\n",
       "      <td>66</td>\n",
       "      <td>10</td>\n",
       "      <td>0</td>\n",
       "    </tr>\n",
       "    <tr>\n",
       "      <th>14</th>\n",
       "      <td>30</td>\n",
       "      <td>181</td>\n",
       "      <td>37.4</td>\n",
       "      <td>93</td>\n",
       "      <td>157</td>\n",
       "      <td>2.0508</td>\n",
       "      <td>80</td>\n",
       "      <td>5</td>\n",
       "      <td>0</td>\n",
       "    </tr>\n",
       "    <tr>\n",
       "      <th>15</th>\n",
       "      <td>46</td>\n",
       "      <td>213</td>\n",
       "      <td>26.5</td>\n",
       "      <td>70</td>\n",
       "      <td>133</td>\n",
       "      <td>1.4788</td>\n",
       "      <td>55</td>\n",
       "      <td>12</td>\n",
       "      <td>0</td>\n",
       "    </tr>\n",
       "    <tr>\n",
       "      <th>16</th>\n",
       "      <td>29</td>\n",
       "      <td>173</td>\n",
       "      <td>50.7</td>\n",
       "      <td>91</td>\n",
       "      <td>221</td>\n",
       "      <td>1.4878</td>\n",
       "      <td>83</td>\n",
       "      <td>3</td>\n",
       "      <td>0</td>\n",
       "    </tr>\n",
       "    <tr>\n",
       "      <th>17</th>\n",
       "      <td>36</td>\n",
       "      <td>202</td>\n",
       "      <td>42.8</td>\n",
       "      <td>72</td>\n",
       "      <td>273</td>\n",
       "      <td>1.8748</td>\n",
       "      <td>72</td>\n",
       "      <td>13</td>\n",
       "      <td>0</td>\n",
       "    </tr>\n",
       "    <tr>\n",
       "      <th>18</th>\n",
       "      <td>27</td>\n",
       "      <td>197</td>\n",
       "      <td>29.1</td>\n",
       "      <td>72</td>\n",
       "      <td>362</td>\n",
       "      <td>1.4298</td>\n",
       "      <td>69</td>\n",
       "      <td>4</td>\n",
       "      <td>0</td>\n",
       "    </tr>\n",
       "    <tr>\n",
       "      <th>19</th>\n",
       "      <td>44</td>\n",
       "      <td>184</td>\n",
       "      <td>33.9</td>\n",
       "      <td>104</td>\n",
       "      <td>141</td>\n",
       "      <td>1.3268</td>\n",
       "      <td>60</td>\n",
       "      <td>2</td>\n",
       "      <td>0</td>\n",
       "    </tr>\n",
       "  </tbody>\n",
       "</table>\n",
       "</div>"
      ],
      "text/plain": [
       "    age  weight   bmi  blood_pressure  insulin_test  liver_stress_test  \\\n",
       "0    24     151  39.5              69            72             1.3968   \n",
       "1    27     179  35.5              89           156             1.6608   \n",
       "2    34     147  26.9              76            74             1.6958   \n",
       "3    35     206  32.4              73           127             1.4608   \n",
       "4    60     193  29.8              62           192             1.7798   \n",
       "5    45     120  36.5             108            50             1.2978   \n",
       "6    20     139  38.2              61            77             1.5818   \n",
       "7    23     137  31.2              70            73             1.4168   \n",
       "8    36     195  30.5              59           141             1.4498   \n",
       "9    19     193  25.8              84            66             1.7938   \n",
       "10   47     216  34.7              70           170             1.7238   \n",
       "11   40     200  30.4              69           128             1.3118   \n",
       "12   21     154  46.5              88           121             1.2498   \n",
       "13   52     196  31.3              90           167             1.9238   \n",
       "14   30     181  37.4              93           157             2.0508   \n",
       "15   46     213  26.5              70           133             1.4788   \n",
       "16   29     173  50.7              91           221             1.4878   \n",
       "17   36     202  42.8              72           273             1.8748   \n",
       "18   27     197  29.1              72           362             1.4298   \n",
       "19   44     184  33.9             104           141             1.3268   \n",
       "\n",
       "    cardio_stress_test  years_smoking  zeta_disease  \n",
       "0                   56              4             1  \n",
       "1                   43              6             0  \n",
       "2                   53              2             0  \n",
       "3                   61              6             0  \n",
       "4                   65              9             0  \n",
       "5                   54             12             0  \n",
       "6                   68              3             0  \n",
       "7                   59              7             1  \n",
       "8                   59              6             0  \n",
       "9                   50              3             0  \n",
       "10                  58              7             0  \n",
       "11                  60              3             0  \n",
       "12                  68              4             1  \n",
       "13                  66             10             0  \n",
       "14                  80              5             0  \n",
       "15                  55             12             0  \n",
       "16                  83              3             0  \n",
       "17                  72             13             0  \n",
       "18                  69              4             0  \n",
       "19                  60              2             0  "
      ]
     },
     "execution_count": 59,
     "metadata": {},
     "output_type": "execute_result"
    }
   ],
   "source": [
    "df_pred"
   ]
  },
  {
   "cell_type": "code",
   "execution_count": 78,
   "metadata": {},
   "outputs": [
    {
     "data": {
      "text/plain": [
       "False"
      ]
     },
     "execution_count": 78,
     "metadata": {},
     "output_type": "execute_result"
    }
   ],
   "source": [
    "df['age'].is_unique"
   ]
  },
  {
   "cell_type": "code",
   "execution_count": null,
   "metadata": {},
   "outputs": [],
   "source": []
  }
 ],
 "metadata": {
  "kernelspec": {
   "display_name": "Python 3",
   "language": "python",
   "name": "python3"
  },
  "language_info": {
   "codemirror_mode": {
    "name": "ipython",
    "version": 3
   },
   "file_extension": ".py",
   "mimetype": "text/x-python",
   "name": "python",
   "nbconvert_exporter": "python",
   "pygments_lexer": "ipython3",
   "version": "3.7.1"
  }
 },
 "nbformat": 4,
 "nbformat_minor": 2
}
